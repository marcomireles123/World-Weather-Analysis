{
 "cells": [
  {
   "cell_type": "code",
   "execution_count": 1,
   "id": "172228de",
   "metadata": {},
   "outputs": [],
   "source": [
    "# 6.1.4 Generate random longitude and lattitudes\n",
    "\n",
    "# Imports the random module\n",
    "import random"
   ]
  },
  {
   "cell_type": "code",
   "execution_count": 2,
   "id": "dba8546f",
   "metadata": {},
   "outputs": [
    {
     "data": {
      "text/plain": [
       "0.7830229357967544"
      ]
     },
     "execution_count": 2,
     "metadata": {},
     "output_type": "execute_result"
    }
   ],
   "source": [
    "# Random function will return a floating point between 0 and 1.0\n",
    "random.random()"
   ]
  },
  {
   "cell_type": "code",
   "execution_count": 3,
   "id": "88277a47",
   "metadata": {},
   "outputs": [
    {
     "data": {
      "text/plain": [
       "11"
      ]
     },
     "execution_count": 3,
     "metadata": {},
     "output_type": "execute_result"
    }
   ],
   "source": [
    "# randint is short for \"random integer\"\n",
    "# Returns a whole integer between -90 and 90\n",
    "random.randint(-90,90)"
   ]
  },
  {
   "cell_type": "code",
   "execution_count": 4,
   "id": "428974c1",
   "metadata": {},
   "outputs": [
    {
     "data": {
      "text/plain": [
       "5"
      ]
     },
     "execution_count": 4,
     "metadata": {},
     "output_type": "execute_result"
    }
   ],
   "source": [
    "#Return a whole integer between -9 and 9 and divisible by the step \n",
    "#In this case the step value is '2'\n",
    "#You do not have to add a 'step' value but it will default to 1 in that case\n",
    "\n",
    "random.randrange(-9, 9, 2)"
   ]
  },
  {
   "cell_type": "code",
   "execution_count": 5,
   "id": "4bee1ae6",
   "metadata": {},
   "outputs": [
    {
     "data": {
      "text/plain": [
       "5.541008203255412"
      ]
     },
     "execution_count": 5,
     "metadata": {},
     "output_type": "execute_result"
    }
   ],
   "source": [
    "#Returns a floating point decimal between -10 and 10\n",
    "#Will NOT generate a whole integer \n",
    "random.uniform(-10,10)"
   ]
  },
  {
   "cell_type": "code",
   "execution_count": 6,
   "id": "14311a39",
   "metadata": {},
   "outputs": [
    {
     "data": {
      "text/plain": [
       "-20.147103306622185"
      ]
     },
     "execution_count": 6,
     "metadata": {},
     "output_type": "execute_result"
    }
   ],
   "source": [
    "random_number = random.randint(-90, 89) + random.random()\n",
    "random_number"
   ]
  },
  {
   "cell_type": "code",
   "execution_count": 16,
   "id": "5dd47a1d",
   "metadata": {},
   "outputs": [],
   "source": [
    "# Assign the variable x to 1 \n",
    "x = 1\n",
    "\n",
    "#Initialize an empty list called latitudes\n",
    "latitudes = []\n",
    "\n",
    "# Create a 'while' loop where a random lattitude is added to the list \n",
    "# The loop will keep running as long as x is less than 11 \n",
    "# This is how we generate 10 random numbers \n",
    "\n",
    "while x < 11:\n",
    "    \n",
    "    random_lat = random.randint(-90, 89) + random.random()\n",
    "    \n",
    "    latitudes.append(random_lat)\n",
    "    \n",
    "    x += 1"
   ]
  },
  {
   "cell_type": "code",
   "execution_count": 17,
   "id": "35276034",
   "metadata": {},
   "outputs": [
    {
     "data": {
      "text/plain": [
       "[73.21811984952873,\n",
       " 83.0294181611995,\n",
       " 30.72166084623413,\n",
       " 42.9387673990412,\n",
       " 24.461739464125227,\n",
       " -20.79797531092766,\n",
       " 66.9813299957729,\n",
       " -43.47813551468325,\n",
       " -84.21587335851522,\n",
       " -43.1188666103966]"
      ]
     },
     "execution_count": 17,
     "metadata": {},
     "output_type": "execute_result"
    }
   ],
   "source": [
    "latitudes"
   ]
  },
  {
   "cell_type": "code",
   "execution_count": 8,
   "id": "52805501",
   "metadata": {},
   "outputs": [
    {
     "data": {
      "text/plain": [
       "18"
      ]
     },
     "execution_count": 8,
     "metadata": {},
     "output_type": "execute_result"
    }
   ],
   "source": [
    "random.randrange(-90,90, step=3)"
   ]
  },
  {
   "cell_type": "code",
   "execution_count": 9,
   "id": "d11f18a3",
   "metadata": {},
   "outputs": [
    {
     "data": {
      "text/plain": [
       "-12.462539973837963"
      ]
     },
     "execution_count": 9,
     "metadata": {},
     "output_type": "execute_result"
    }
   ],
   "source": [
    "#Uniform() will only generate floating point decimals and not whole integers\n",
    "random.uniform(-90,90)"
   ]
  },
  {
   "cell_type": "code",
   "execution_count": 10,
   "id": "587c8412",
   "metadata": {},
   "outputs": [],
   "source": [
    "import numpy as np"
   ]
  },
  {
   "cell_type": "code",
   "execution_count": 11,
   "id": "6bcee15b",
   "metadata": {},
   "outputs": [
    {
     "data": {
      "text/plain": [
       "-76.69383658367425"
      ]
     },
     "execution_count": 11,
     "metadata": {},
     "output_type": "execute_result"
    }
   ],
   "source": [
    "np.random.uniform(-90.000,90.000)"
   ]
  },
  {
   "cell_type": "code",
   "execution_count": 12,
   "id": "b2059040",
   "metadata": {},
   "outputs": [
    {
     "data": {
      "text/plain": [
       "array([-52.61258953,  54.14336463,   9.61526163, -75.98719274,\n",
       "       -12.17944421,  44.32580971,  78.03038208,  89.33385563,\n",
       "       -21.74525097,  -6.36676256,  46.12523418, -16.57064769,\n",
       "       -28.19824862,  41.58684138,  51.67106314, -28.49100922,\n",
       "         1.3740249 ,  76.27904618,  76.36061104, -61.93179349,\n",
       "        48.23107096,  39.13287037,   1.56470045,  -6.49238196,\n",
       "        75.6700316 ,  71.28395297, -68.63649786, -85.84073123,\n",
       "       -59.42633916,  18.37058059,  78.15624846, -89.27399606,\n",
       "        12.29707601, -43.90282997,  38.82978686,  13.73904677,\n",
       "        61.65217338, -39.08902495, -69.61960206, -57.51558882,\n",
       "        26.26418835, -37.96330091,  -8.6251482 ,  13.03086506,\n",
       "         8.01988579, -43.93270008,  69.31090579,  65.33040196,\n",
       "       -21.27843865, -54.72867341])"
      ]
     },
     "execution_count": 12,
     "metadata": {},
     "output_type": "execute_result"
    }
   ],
   "source": [
    "np.random.uniform(-90.000,90.000, size=50)"
   ]
  },
  {
   "cell_type": "code",
   "execution_count": 13,
   "id": "b9300cc2",
   "metadata": {},
   "outputs": [],
   "source": [
    "import timeit    "
   ]
  },
  {
   "cell_type": "code",
   "execution_count": 14,
   "id": "d134e15c",
   "metadata": {},
   "outputs": [
    {
     "name": "stdout",
     "output_type": "stream",
     "text": [
      "11.2 µs ± 41.6 ns per loop (mean ± std. dev. of 7 runs, 100000 loops each)\n"
     ]
    }
   ],
   "source": [
    "%timeit np.random.uniform(-90.000,90.000, size=1500)"
   ]
  },
  {
   "cell_type": "code",
   "execution_count": 15,
   "id": "0cc202ba",
   "metadata": {},
   "outputs": [
    {
     "name": "stdout",
     "output_type": "stream",
     "text": [
      "1.34 ms ± 3.1 µs per loop (mean ± std. dev. of 7 runs, 1000 loops each)\n"
     ]
    }
   ],
   "source": [
    "def latitudes(size):\n",
    "    latitudes = []\n",
    "    x = 0\n",
    "    while x < (size):\n",
    "        random_lat = random.randint(-90, 90) + random.random()\n",
    "        latitudes.append(random_lat)\n",
    "        x += 1\n",
    "    return latitudes\n",
    "\n",
    "# Call the function with 1500.\n",
    "%timeit latitudes(1500)"
   ]
  },
  {
   "cell_type": "code",
   "execution_count": null,
   "id": "59f2aaf2",
   "metadata": {},
   "outputs": [],
   "source": []
  }
 ],
 "metadata": {
  "kernelspec": {
   "display_name": "PythonData",
   "language": "python",
   "name": "pythondata"
  },
  "language_info": {
   "codemirror_mode": {
    "name": "ipython",
    "version": 3
   },
   "file_extension": ".py",
   "mimetype": "text/x-python",
   "name": "python",
   "nbconvert_exporter": "python",
   "pygments_lexer": "ipython3",
   "version": "3.7.6"
  }
 },
 "nbformat": 4,
 "nbformat_minor": 5
}
