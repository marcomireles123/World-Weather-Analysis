{
 "cells": [
  {
   "cell_type": "code",
   "execution_count": 1,
   "id": "172228de",
   "metadata": {},
   "outputs": [],
   "source": [
    "# 6.1.4 Generate random longitude and lattitudes\n",
    "\n",
    "# Imports the random module\n",
    "import random"
   ]
  },
  {
   "cell_type": "code",
   "execution_count": 2,
   "id": "dba8546f",
   "metadata": {},
   "outputs": [
    {
     "data": {
      "text/plain": [
       "0.16485422198353417"
      ]
     },
     "execution_count": 2,
     "metadata": {},
     "output_type": "execute_result"
    }
   ],
   "source": [
    "# Random function will return a floating point between 0 and 1.0\n",
    "random.random()"
   ]
  },
  {
   "cell_type": "code",
   "execution_count": 3,
   "id": "88277a47",
   "metadata": {},
   "outputs": [
    {
     "data": {
      "text/plain": [
       "59"
      ]
     },
     "execution_count": 3,
     "metadata": {},
     "output_type": "execute_result"
    }
   ],
   "source": [
    "# randint is short for \"random integer\"\n",
    "# Returns a whole integer between -90 and 90\n",
    "random.randint(-90,90)"
   ]
  },
  {
   "cell_type": "code",
   "execution_count": 4,
   "id": "428974c1",
   "metadata": {},
   "outputs": [
    {
     "data": {
      "text/plain": [
       "-1"
      ]
     },
     "execution_count": 4,
     "metadata": {},
     "output_type": "execute_result"
    }
   ],
   "source": [
    "#Return a whole integer between -9 and 9 and divisible by the step \n",
    "#In this case the step value is '2'\n",
    "#You do not have to add a 'step' value but it will default to 1 in that case\n",
    "\n",
    "random.randrange(-9, 9, 2)"
   ]
  },
  {
   "cell_type": "code",
   "execution_count": 5,
   "id": "4bee1ae6",
   "metadata": {},
   "outputs": [
    {
     "data": {
      "text/plain": [
       "-6.314965044247238"
      ]
     },
     "execution_count": 5,
     "metadata": {},
     "output_type": "execute_result"
    }
   ],
   "source": [
    "#Returns a floating point decimal between -10 and 10\n",
    "#Will NOT generate a whole integer \n",
    "random.uniform(-10,10)"
   ]
  },
  {
   "cell_type": "code",
   "execution_count": 6,
   "id": "14311a39",
   "metadata": {},
   "outputs": [
    {
     "data": {
      "text/plain": [
       "23.47730836124361"
      ]
     },
     "execution_count": 6,
     "metadata": {},
     "output_type": "execute_result"
    }
   ],
   "source": [
    "random_number = random.randint(-90, 89) + random.random()\n",
    "random_number"
   ]
  },
  {
   "cell_type": "code",
   "execution_count": 7,
   "id": "5dd47a1d",
   "metadata": {},
   "outputs": [],
   "source": [
    "# Assign the variable x to 1 \n",
    "x = 1\n",
    "\n",
    "#Initialize an empty list called latitudes\n",
    "latitudes = []\n",
    "\n",
    "# Create a 'while' loop where a random lattitude is added to the list \n",
    "# The loop will keep running as long as x is less than 11 \n",
    "# This is how we generate 10 random numbers \n",
    "\n",
    "while x < 11:\n",
    "    \n",
    "    random_lat = random.randint(-90, 89) + random.random()\n",
    "    \n",
    "    latitudes.append(random_lat)\n",
    "    \n",
    "    x += 1"
   ]
  },
  {
   "cell_type": "code",
   "execution_count": 8,
   "id": "35276034",
   "metadata": {},
   "outputs": [
    {
     "data": {
      "text/plain": [
       "[81.06096028606554,\n",
       " -81.89277661173598,\n",
       " -82.00097283457522,\n",
       " -25.081291922456387,\n",
       " 1.3967654004809815,\n",
       " -7.1300297683680505,\n",
       " 25.867769801133342,\n",
       " 84.48729725586247,\n",
       " -55.53254664261275,\n",
       " -84.23765773168961]"
      ]
     },
     "execution_count": 8,
     "metadata": {},
     "output_type": "execute_result"
    }
   ],
   "source": [
    "latitudes"
   ]
  },
  {
   "cell_type": "code",
   "execution_count": 9,
   "id": "52805501",
   "metadata": {},
   "outputs": [
    {
     "data": {
      "text/plain": [
       "-3"
      ]
     },
     "execution_count": 9,
     "metadata": {},
     "output_type": "execute_result"
    }
   ],
   "source": [
    "random.randrange(-90,90, step=3)"
   ]
  },
  {
   "cell_type": "code",
   "execution_count": 10,
   "id": "d11f18a3",
   "metadata": {},
   "outputs": [
    {
     "data": {
      "text/plain": [
       "-86.09702911913142"
      ]
     },
     "execution_count": 10,
     "metadata": {},
     "output_type": "execute_result"
    }
   ],
   "source": [
    "#Uniform() will only generate floating point decimals and not whole integers\n",
    "random.uniform(-90,90)"
   ]
  },
  {
   "cell_type": "code",
   "execution_count": 11,
   "id": "587c8412",
   "metadata": {},
   "outputs": [],
   "source": [
    "import numpy as np"
   ]
  },
  {
   "cell_type": "code",
   "execution_count": 12,
   "id": "6bcee15b",
   "metadata": {},
   "outputs": [
    {
     "data": {
      "text/plain": [
       "66.07118188731255"
      ]
     },
     "execution_count": 12,
     "metadata": {},
     "output_type": "execute_result"
    }
   ],
   "source": [
    "np.random.uniform(-90.000,90.000)"
   ]
  },
  {
   "cell_type": "code",
   "execution_count": 13,
   "id": "b2059040",
   "metadata": {},
   "outputs": [
    {
     "data": {
      "text/plain": [
       "array([ 28.03815639,  45.28434603,  71.41829161,  83.5548611 ,\n",
       "       -45.11154325, -83.15576869,  68.57240227,  55.24969595,\n",
       "       -89.45219505, -81.31479295,   1.10961211,  50.22681771,\n",
       "       -27.91313773,  57.88574395,  -3.25589122,  73.23891168,\n",
       "        86.92068565, -82.3537285 , -10.62837225, -86.87328897,\n",
       "        11.68539342,  47.80096133, -50.30099614, -13.39017322,\n",
       "       -11.44526381, -55.03357396, -16.18524954, -22.56219342,\n",
       "        51.63312262,  51.20060244,   3.24493543, -40.45722289,\n",
       "        16.69103436,  41.40597405,  47.38561107,   7.34505646,\n",
       "        36.51308848, -22.95625025, -70.49003415,  84.29688755,\n",
       "       -20.07697214, -63.42741701,  18.79195803,  -0.65393152,\n",
       "       -77.57329523,  37.38640365,  84.14030112,  -4.76920812,\n",
       "        42.99663509,  34.71537638])"
      ]
     },
     "execution_count": 13,
     "metadata": {},
     "output_type": "execute_result"
    }
   ],
   "source": [
    "np.random.uniform(-90.000,90.000, size=50)"
   ]
  },
  {
   "cell_type": "code",
   "execution_count": 14,
   "id": "b9300cc2",
   "metadata": {},
   "outputs": [],
   "source": [
    "import timeit    "
   ]
  },
  {
   "cell_type": "code",
   "execution_count": 15,
   "id": "d134e15c",
   "metadata": {},
   "outputs": [
    {
     "name": "stdout",
     "output_type": "stream",
     "text": [
      "11.4 µs ± 24.3 ns per loop (mean ± std. dev. of 7 runs, 100000 loops each)\n"
     ]
    }
   ],
   "source": [
    "%timeit np.random.uniform(-90.000,90.000, size=1500)"
   ]
  },
  {
   "cell_type": "code",
   "execution_count": 16,
   "id": "0cc202ba",
   "metadata": {},
   "outputs": [
    {
     "name": "stdout",
     "output_type": "stream",
     "text": [
      "1.36 ms ± 2.5 µs per loop (mean ± std. dev. of 7 runs, 1000 loops each)\n"
     ]
    }
   ],
   "source": [
    "def latitudes(size):\n",
    "    latitudes = []\n",
    "    x = 0\n",
    "    while x < (size):\n",
    "        random_lat = random.randint(-90, 90) + random.random()\n",
    "        latitudes.append(random_lat)\n",
    "        x += 1\n",
    "    return latitudes\n",
    "\n",
    "# Call the function with 1500.\n",
    "%timeit latitudes(1500)"
   ]
  },
  {
   "cell_type": "code",
   "execution_count": 17,
   "id": "59f2aaf2",
   "metadata": {},
   "outputs": [],
   "source": [
    "# Import linear regression from the SciPy stats module.\n",
    "from scipy.stats import linregress"
   ]
  },
  {
   "cell_type": "code",
   "execution_count": 18,
   "id": "9444ea82",
   "metadata": {},
   "outputs": [],
   "source": [
    "# Create an equal number of latitudes and temperatures.\n",
    "lats = [42.5, 43.9, 8.1, 36.8, 79.9, 69.1, 25.7, 15.3, 12.7, 64.5]\n",
    "temps = [80.5, 75.3, 90.9, 90.0, 40.4, 62.3, 85.4, 79.6, 72.5, 72.0]"
   ]
  },
  {
   "cell_type": "code",
   "execution_count": 19,
   "id": "98c5bfe9",
   "metadata": {},
   "outputs": [
    {
     "name": "stdout",
     "output_type": "stream",
     "text": [
      "y = -0.45x + 92.94\n",
      "The p-value is: 0.011\n"
     ]
    }
   ],
   "source": [
    "# Perform linear regression.\n",
    "(slope, intercept, r_value, p_value, std_err) = linregress(lats, temps)\n",
    "# Get the equation of the line.\n",
    "line_eq = \"y = \" + str(round(slope,2)) + \"x + \" + str(round(intercept,2))\n",
    "print(line_eq)\n",
    "print(f\"The p-value is: {p_value:.3f}\")"
   ]
  },
  {
   "cell_type": "code",
   "execution_count": null,
   "id": "c5d58f82",
   "metadata": {},
   "outputs": [],
   "source": []
  }
 ],
 "metadata": {
  "kernelspec": {
   "display_name": "PythonData",
   "language": "python",
   "name": "pythondata"
  },
  "language_info": {
   "codemirror_mode": {
    "name": "ipython",
    "version": 3
   },
   "file_extension": ".py",
   "mimetype": "text/x-python",
   "name": "python",
   "nbconvert_exporter": "python",
   "pygments_lexer": "ipython3",
   "version": "3.7.6"
  }
 },
 "nbformat": 4,
 "nbformat_minor": 5
}
