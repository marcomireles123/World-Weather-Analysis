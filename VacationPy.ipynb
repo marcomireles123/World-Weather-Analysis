{
 "cells": [
  {
   "cell_type": "code",
   "execution_count": 2,
   "id": "4c818e32",
   "metadata": {},
   "outputs": [
    {
     "name": "stdout",
     "output_type": "stream",
     "text": [
      "Collecting gmapsNote: you may need to restart the kernel to use updated packages.\n",
      "\n",
      "  Downloading gmaps-0.9.0.tar.gz (1.1 MB)\n",
      "     ---------------------------------------- 1.1/1.1 MB 3.2 MB/s eta 0:00:00\n",
      "  Preparing metadata (setup.py): started\n",
      "  Preparing metadata (setup.py): finished with status 'done'\n",
      "Requirement already satisfied: ipython>=5.3.0 in c:\\users\\marco\\appdata\\local\\programs\\python\\python37\\lib\\site-packages (from gmaps) (7.34.0)\n",
      "Collecting ipywidgets>=7.0.0\n",
      "  Downloading ipywidgets-8.0.2-py3-none-any.whl (134 kB)\n",
      "     -------------------------------------- 134.4/134.4 kB 2.6 MB/s eta 0:00:00\n",
      "Requirement already satisfied: traitlets>=4.3.0 in c:\\users\\marco\\appdata\\local\\programs\\python\\python37\\lib\\site-packages (from gmaps) (5.4.0)\n",
      "Collecting geojson>=2.0.0\n",
      "  Downloading geojson-2.5.0-py2.py3-none-any.whl (14 kB)\n",
      "Requirement already satisfied: six in c:\\users\\marco\\appdata\\local\\programs\\python\\python37\\lib\\site-packages (from gmaps) (1.16.0)\n",
      "Requirement already satisfied: pygments in c:\\users\\marco\\appdata\\local\\programs\\python\\python37\\lib\\site-packages (from ipython>=5.3.0->gmaps) (2.13.0)\n",
      "Requirement already satisfied: colorama in c:\\users\\marco\\appdata\\local\\programs\\python\\python37\\lib\\site-packages (from ipython>=5.3.0->gmaps) (0.4.5)\n",
      "Requirement already satisfied: jedi>=0.16 in c:\\users\\marco\\appdata\\local\\programs\\python\\python37\\lib\\site-packages (from ipython>=5.3.0->gmaps) (0.18.1)\n",
      "Requirement already satisfied: matplotlib-inline in c:\\users\\marco\\appdata\\local\\programs\\python\\python37\\lib\\site-packages (from ipython>=5.3.0->gmaps) (0.1.6)\n",
      "Requirement already satisfied: backcall in c:\\users\\marco\\appdata\\local\\programs\\python\\python37\\lib\\site-packages (from ipython>=5.3.0->gmaps) (0.2.0)\n",
      "Requirement already satisfied: prompt-toolkit!=3.0.0,!=3.0.1,<3.1.0,>=2.0.0 in c:\\users\\marco\\appdata\\local\\programs\\python\\python37\\lib\\site-packages (from ipython>=5.3.0->gmaps) (3.0.31)\n",
      "Requirement already satisfied: setuptools>=18.5 in c:\\users\\marco\\appdata\\local\\programs\\python\\python37\\lib\\site-packages (from ipython>=5.3.0->gmaps) (41.2.0)\n",
      "Requirement already satisfied: pickleshare in c:\\users\\marco\\appdata\\local\\programs\\python\\python37\\lib\\site-packages (from ipython>=5.3.0->gmaps) (0.7.5)\n",
      "Requirement already satisfied: decorator in c:\\users\\marco\\appdata\\local\\programs\\python\\python37\\lib\\site-packages (from ipython>=5.3.0->gmaps) (5.1.1)\n",
      "Collecting jupyterlab-widgets~=3.0\n",
      "  Downloading jupyterlab_widgets-3.0.3-py3-none-any.whl (384 kB)\n",
      "     -------------------------------------- 384.1/384.1 kB 3.4 MB/s eta 0:00:00\n",
      "Collecting widgetsnbextension~=4.0\n",
      "  Downloading widgetsnbextension-4.0.3-py3-none-any.whl (2.0 MB)\n",
      "     ---------------------------------------- 2.0/2.0 MB 3.8 MB/s eta 0:00:00\n",
      "Requirement already satisfied: ipykernel>=4.5.1 in c:\\users\\marco\\appdata\\local\\programs\\python\\python37\\lib\\site-packages (from ipywidgets>=7.0.0->gmaps) (6.16.0)\n",
      "Requirement already satisfied: debugpy>=1.0 in c:\\users\\marco\\appdata\\local\\programs\\python\\python37\\lib\\site-packages (from ipykernel>=4.5.1->ipywidgets>=7.0.0->gmaps) (1.6.3)\n",
      "Requirement already satisfied: tornado>=6.1 in c:\\users\\marco\\appdata\\local\\programs\\python\\python37\\lib\\site-packages (from ipykernel>=4.5.1->ipywidgets>=7.0.0->gmaps) (6.2)\n",
      "Requirement already satisfied: nest-asyncio in c:\\users\\marco\\appdata\\local\\programs\\python\\python37\\lib\\site-packages (from ipykernel>=4.5.1->ipywidgets>=7.0.0->gmaps) (1.5.6)\n",
      "Requirement already satisfied: psutil in c:\\users\\marco\\appdata\\local\\programs\\python\\python37\\lib\\site-packages (from ipykernel>=4.5.1->ipywidgets>=7.0.0->gmaps) (5.9.2)\n",
      "Requirement already satisfied: pyzmq>=17 in c:\\users\\marco\\appdata\\local\\programs\\python\\python37\\lib\\site-packages (from ipykernel>=4.5.1->ipywidgets>=7.0.0->gmaps) (24.0.1)\n",
      "Requirement already satisfied: packaging in c:\\users\\marco\\appdata\\local\\programs\\python\\python37\\lib\\site-packages (from ipykernel>=4.5.1->ipywidgets>=7.0.0->gmaps) (21.3)\n",
      "Requirement already satisfied: jupyter-client>=6.1.12 in c:\\users\\marco\\appdata\\local\\programs\\python\\python37\\lib\\site-packages (from ipykernel>=4.5.1->ipywidgets>=7.0.0->gmaps) (7.3.5)\n",
      "Requirement already satisfied: parso<0.9.0,>=0.8.0 in c:\\users\\marco\\appdata\\local\\programs\\python\\python37\\lib\\site-packages (from jedi>=0.16->ipython>=5.3.0->gmaps) (0.8.3)\n",
      "Requirement already satisfied: wcwidth in c:\\users\\marco\\appdata\\local\\programs\\python\\python37\\lib\\site-packages (from prompt-toolkit!=3.0.0,!=3.0.1,<3.1.0,>=2.0.0->ipython>=5.3.0->gmaps) (0.2.5)\n",
      "Requirement already satisfied: python-dateutil>=2.8.2 in c:\\users\\marco\\appdata\\local\\programs\\python\\python37\\lib\\site-packages (from jupyter-client>=6.1.12->ipykernel>=4.5.1->ipywidgets>=7.0.0->gmaps) (2.8.2)\n",
      "Requirement already satisfied: entrypoints in c:\\users\\marco\\appdata\\local\\programs\\python\\python37\\lib\\site-packages (from jupyter-client>=6.1.12->ipykernel>=4.5.1->ipywidgets>=7.0.0->gmaps) (0.4)\n",
      "Requirement already satisfied: jupyter-core>=4.9.2 in c:\\users\\marco\\appdata\\local\\programs\\python\\python37\\lib\\site-packages (from jupyter-client>=6.1.12->ipykernel>=4.5.1->ipywidgets>=7.0.0->gmaps) (4.11.1)\n",
      "Requirement already satisfied: pyparsing!=3.0.5,>=2.0.2 in c:\\users\\marco\\appdata\\local\\programs\\python\\python37\\lib\\site-packages (from packaging->ipykernel>=4.5.1->ipywidgets>=7.0.0->gmaps) (3.0.9)\n",
      "Requirement already satisfied: pywin32>=1.0 in c:\\users\\marco\\appdata\\local\\programs\\python\\python37\\lib\\site-packages (from jupyter-core>=4.9.2->jupyter-client>=6.1.12->ipykernel>=4.5.1->ipywidgets>=7.0.0->gmaps) (304)\n",
      "Using legacy 'setup.py install' for gmaps, since package 'wheel' is not installed.\n",
      "Installing collected packages: geojson, widgetsnbextension, jupyterlab-widgets, ipywidgets, gmaps\n",
      "  Running setup.py install for gmaps: started\n",
      "  Running setup.py install for gmaps: finished with status 'done'\n",
      "Successfully installed geojson-2.5.0 gmaps-0.9.0 ipywidgets-8.0.2 jupyterlab-widgets-3.0.3 widgetsnbextension-4.0.3\n"
     ]
    },
    {
     "name": "stderr",
     "output_type": "stream",
     "text": [
      "\n",
      "[notice] A new release of pip available: 22.2.2 -> 22.3\n",
      "[notice] To update, run: C:\\Users\\Marco\\AppData\\Local\\Programs\\Python\\Python37\\python.exe -m pip install --upgrade pip\n"
     ]
    }
   ],
   "source": [
    "pip install gmaps"
   ]
  },
  {
   "cell_type": "code",
   "execution_count": 4,
   "id": "ed7ad86e",
   "metadata": {},
   "outputs": [],
   "source": [
    "# Import the dependencies.\n",
    "import pandas as pd\n",
    "import gmaps\n",
    "import requests\n",
    "# Import the API key.\n",
    "from Config import g_key"
   ]
  },
  {
   "cell_type": "code",
   "execution_count": 5,
   "id": "366ae461",
   "metadata": {},
   "outputs": [
    {
     "data": {
      "text/html": [
       "<div>\n",
       "<style scoped>\n",
       "    .dataframe tbody tr th:only-of-type {\n",
       "        vertical-align: middle;\n",
       "    }\n",
       "\n",
       "    .dataframe tbody tr th {\n",
       "        vertical-align: top;\n",
       "    }\n",
       "\n",
       "    .dataframe thead th {\n",
       "        text-align: right;\n",
       "    }\n",
       "</style>\n",
       "<table border=\"1\" class=\"dataframe\">\n",
       "  <thead>\n",
       "    <tr style=\"text-align: right;\">\n",
       "      <th></th>\n",
       "      <th>City_ID</th>\n",
       "      <th>City</th>\n",
       "      <th>Country</th>\n",
       "      <th>Date</th>\n",
       "      <th>Lat</th>\n",
       "      <th>Lng</th>\n",
       "      <th>Max Temp</th>\n",
       "      <th>Humidity</th>\n",
       "      <th>Cloudiness</th>\n",
       "      <th>Wind Speed</th>\n",
       "    </tr>\n",
       "  </thead>\n",
       "  <tbody>\n",
       "    <tr>\n",
       "      <th>0</th>\n",
       "      <td>0</td>\n",
       "      <td>Fenoarivo</td>\n",
       "      <td>MG</td>\n",
       "      <td>2022-10-21 00:06:21</td>\n",
       "      <td>-18.9330</td>\n",
       "      <td>47.4354</td>\n",
       "      <td>59.07</td>\n",
       "      <td>82</td>\n",
       "      <td>75</td>\n",
       "      <td>10.36</td>\n",
       "    </tr>\n",
       "    <tr>\n",
       "      <th>1</th>\n",
       "      <td>1</td>\n",
       "      <td>Barrow</td>\n",
       "      <td>US</td>\n",
       "      <td>2022-10-21 00:06:21</td>\n",
       "      <td>71.2906</td>\n",
       "      <td>-156.7887</td>\n",
       "      <td>28.42</td>\n",
       "      <td>86</td>\n",
       "      <td>100</td>\n",
       "      <td>24.16</td>\n",
       "    </tr>\n",
       "    <tr>\n",
       "      <th>2</th>\n",
       "      <td>2</td>\n",
       "      <td>Hilo</td>\n",
       "      <td>US</td>\n",
       "      <td>2022-10-21 00:06:22</td>\n",
       "      <td>19.7297</td>\n",
       "      <td>-155.0900</td>\n",
       "      <td>88.29</td>\n",
       "      <td>73</td>\n",
       "      <td>20</td>\n",
       "      <td>17.27</td>\n",
       "    </tr>\n",
       "    <tr>\n",
       "      <th>3</th>\n",
       "      <td>3</td>\n",
       "      <td>Severobaykalsk</td>\n",
       "      <td>RU</td>\n",
       "      <td>2022-10-21 00:06:22</td>\n",
       "      <td>55.6500</td>\n",
       "      <td>109.3167</td>\n",
       "      <td>29.86</td>\n",
       "      <td>72</td>\n",
       "      <td>56</td>\n",
       "      <td>3.04</td>\n",
       "    </tr>\n",
       "    <tr>\n",
       "      <th>4</th>\n",
       "      <td>4</td>\n",
       "      <td>Bambous Virieux</td>\n",
       "      <td>MU</td>\n",
       "      <td>2022-10-21 00:06:22</td>\n",
       "      <td>-20.3428</td>\n",
       "      <td>57.7575</td>\n",
       "      <td>71.22</td>\n",
       "      <td>80</td>\n",
       "      <td>16</td>\n",
       "      <td>9.78</td>\n",
       "    </tr>\n",
       "  </tbody>\n",
       "</table>\n",
       "</div>"
      ],
      "text/plain": [
       "   City_ID             City Country                 Date      Lat       Lng  \\\n",
       "0        0        Fenoarivo      MG  2022-10-21 00:06:21 -18.9330   47.4354   \n",
       "1        1           Barrow      US  2022-10-21 00:06:21  71.2906 -156.7887   \n",
       "2        2             Hilo      US  2022-10-21 00:06:22  19.7297 -155.0900   \n",
       "3        3   Severobaykalsk      RU  2022-10-21 00:06:22  55.6500  109.3167   \n",
       "4        4  Bambous Virieux      MU  2022-10-21 00:06:22 -20.3428   57.7575   \n",
       "\n",
       "   Max Temp  Humidity  Cloudiness  Wind Speed  \n",
       "0     59.07        82          75       10.36  \n",
       "1     28.42        86         100       24.16  \n",
       "2     88.29        73          20       17.27  \n",
       "3     29.86        72          56        3.04  \n",
       "4     71.22        80          16        9.78  "
      ]
     },
     "execution_count": 5,
     "metadata": {},
     "output_type": "execute_result"
    }
   ],
   "source": [
    "# Store the CSV you saved created in part one into a DataFrame.\n",
    "city_data_df = pd.read_csv(\"weather_data/cities.csv\")\n",
    "city_data_df.head()"
   ]
  },
  {
   "cell_type": "code",
   "execution_count": 6,
   "id": "1c04e7d2",
   "metadata": {},
   "outputs": [
    {
     "data": {
      "text/plain": [
       "City_ID         int64\n",
       "City           object\n",
       "Country        object\n",
       "Date           object\n",
       "Lat           float64\n",
       "Lng           float64\n",
       "Max Temp      float64\n",
       "Humidity        int64\n",
       "Cloudiness      int64\n",
       "Wind Speed    float64\n",
       "dtype: object"
      ]
     },
     "execution_count": 6,
     "metadata": {},
     "output_type": "execute_result"
    }
   ],
   "source": [
    "city_data_df.dtypes"
   ]
  },
  {
   "cell_type": "code",
   "execution_count": 7,
   "id": "a00c35e2",
   "metadata": {},
   "outputs": [],
   "source": [
    "# Configure gmaps to use your Google API key.\n",
    "gmaps.configure(api_key=g_key)"
   ]
  },
  {
   "cell_type": "code",
   "execution_count": null,
   "id": "46e0c1ea",
   "metadata": {},
   "outputs": [],
   "source": []
  }
 ],
 "metadata": {
  "kernelspec": {
   "display_name": "PythonData",
   "language": "python",
   "name": "pythondata"
  },
  "language_info": {
   "codemirror_mode": {
    "name": "ipython",
    "version": 3
   },
   "file_extension": ".py",
   "mimetype": "text/x-python",
   "name": "python",
   "nbconvert_exporter": "python",
   "pygments_lexer": "ipython3",
   "version": "3.7.6"
  }
 },
 "nbformat": 4,
 "nbformat_minor": 5
}
